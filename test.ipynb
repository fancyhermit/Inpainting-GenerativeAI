{
 "cells": [
  {
   "cell_type": "code",
   "execution_count": 3,
   "metadata": {},
   "outputs": [
    {
     "ename": "ImportError",
     "evalue": "cannot import name 'sam2_model_registry' from 'segment_anything' (c:\\Users\\Abhishek Garia\\anaconda3\\envs\\imgtoimg\\Lib\\site-packages\\segment_anything\\__init__.py)",
     "output_type": "error",
     "traceback": [
      "\u001b[1;31m---------------------------------------------------------------------------\u001b[0m",
      "\u001b[1;31mImportError\u001b[0m                               Traceback (most recent call last)",
      "Cell \u001b[1;32mIn[3], line 4\u001b[0m\n\u001b[0;32m      2\u001b[0m \u001b[38;5;28;01mimport\u001b[39;00m \u001b[38;5;21;01mtorch\u001b[39;00m\n\u001b[0;32m      3\u001b[0m \u001b[38;5;66;03m# Assuming sam2_model_registry is available in the library's imports\u001b[39;00m\n\u001b[1;32m----> 4\u001b[0m \u001b[38;5;28;01mfrom\u001b[39;00m \u001b[38;5;21;01msegment_anything\u001b[39;00m \u001b[38;5;28;01mimport\u001b[39;00m sam2_model_registry, SamAutomaticMaskGenerator\n\u001b[0;32m      6\u001b[0m \u001b[38;5;66;03m# Define SAM2 model type and checkpoint path\u001b[39;00m\n\u001b[0;32m      7\u001b[0m model_type \u001b[38;5;241m=\u001b[39m \u001b[38;5;124m\"\u001b[39m\u001b[38;5;124mvit_h\u001b[39m\u001b[38;5;124m\"\u001b[39m  \u001b[38;5;66;03m# Update this to the available type in SAM2 (e.g., vit_h, vit_l, etc.)\u001b[39;00m\n",
      "\u001b[1;31mImportError\u001b[0m: cannot import name 'sam2_model_registry' from 'segment_anything' (c:\\Users\\Abhishek Garia\\anaconda3\\envs\\imgtoimg\\Lib\\site-packages\\segment_anything\\__init__.py)"
     ]
    }
   ],
   "source": [
    "import cv2\n",
    "import torch\n",
    "# Assuming sam2_model_registry is available in the library's imports\n",
    "from segment_anything import sam2_model_registry, SamAutomaticMaskGenerator\n",
    "\n",
    "# Define SAM2 model type and checkpoint path\n",
    "model_type = \"vit_h\"  # Update this to the available type in SAM2 (e.g., vit_h, vit_l, etc.)\n",
    "checkpoint_path = \"path/to/sam2_model_checkpoint.pth\"  # Replace with actual checkpoint path\n",
    "\n",
    "# Load SAM2 model\n",
    "sam2_model = sam2_model_registry[model_type]()\n",
    "sam2_model.load_state_dict(torch.load(checkpoint_path, map_location=\"cpu\"))\n",
    "sam2_model = sam2_model.to(\"cuda\" if torch.cuda.is_available() else \"cpu\")\n",
    "\n",
    "# Initialize mask generator\n",
    "mask_generator = SamAutomaticMaskGenerator(sam2_model)\n",
    "\n",
    "# Initialize video capture\n",
    "video_capture = cv2.VideoCapture(0)  # Use '0' for webcam\n",
    "\n",
    "while video_capture.isOpened():\n",
    "    ret, frame = video_capture.read()\n",
    "    if not ret:\n",
    "        break\n",
    "\n",
    "    # Apply SAM2 segmentation to the frame\n",
    "    masks = mask_generator.generate(frame)\n",
    "\n",
    "    # Overlay masks on the frame\n",
    "    for mask in masks:\n",
    "        frame[mask] = [0, 255, 0]  # Example: green color for mask regions\n",
    "\n",
    "    # Display the segmented frame in real-time\n",
    "    cv2.imshow('Segmented Video with SAM2', frame)\n",
    "    if cv2.waitKey(1) & 0xFF == ord('q'):\n",
    "        break\n",
    "\n",
    "# Clean up\n",
    "video_capture.release()\n",
    "cv2.destroyAllWindows()\n"
   ]
  }
 ],
 "metadata": {
  "kernelspec": {
   "display_name": "imgtoimg",
   "language": "python",
   "name": "python3"
  },
  "language_info": {
   "codemirror_mode": {
    "name": "ipython",
    "version": 3
   },
   "file_extension": ".py",
   "mimetype": "text/x-python",
   "name": "python",
   "nbconvert_exporter": "python",
   "pygments_lexer": "ipython3",
   "version": "3.11.9"
  }
 },
 "nbformat": 4,
 "nbformat_minor": 2
}
